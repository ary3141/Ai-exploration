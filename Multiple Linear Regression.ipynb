{
 "cells": [
  {
   "cell_type": "markdown",
   "id": "3a9bf208",
   "metadata": {},
   "source": [
    "# Import The Library"
   ]
  },
  {
   "cell_type": "code",
   "execution_count": 1,
   "id": "8b1a291c",
   "metadata": {},
   "outputs": [],
   "source": [
    "import pandas as pd\n",
    "import matplotlib.pyplot as plt\n",
    "import numpy as np"
   ]
  },
  {
   "cell_type": "markdown",
   "id": "c544c7e9",
   "metadata": {},
   "source": [
    "# Import the Data"
   ]
  },
  {
   "cell_type": "code",
   "execution_count": 2,
   "id": "4c95cdfe",
   "metadata": {},
   "outputs": [],
   "source": [
    "databayam = pd.read_csv('/Users/mdwivaaryaerlangga/Downloads/50_Startups.csv')\n",
    "X = databayam.iloc[:,:-1].values\n",
    "y = databayam.iloc[:, -1].values"
   ]
  },
  {
   "cell_type": "code",
   "execution_count": 13,
   "id": "96a5b0e8",
   "metadata": {},
   "outputs": [
    {
     "name": "stdout",
     "output_type": "stream",
     "text": [
      "50\n"
     ]
    }
   ],
   "source": [
    "print(len(X))"
   ]
  },
  {
   "cell_type": "markdown",
   "id": "1c9d9306",
   "metadata": {},
   "source": [
    "# Encoding the categorical in dataset"
   ]
  },
  {
   "cell_type": "code",
   "execution_count": 3,
   "id": "80cb2fc7",
   "metadata": {},
   "outputs": [],
   "source": [
    "from sklearn.compose import ColumnTransformer\n",
    "from sklearn.preprocessing import OneHotEncoder\n",
    "ct = ColumnTransformer(transformers=[('encoder', OneHotEncoder(), [3])], remainder = 'passthrough')\n",
    "X = np.array(ct.fit_transform(X))"
   ]
  },
  {
   "cell_type": "markdown",
   "id": "80a2a6d8",
   "metadata": {},
   "source": [
    "# Split the dataset "
   ]
  },
  {
   "cell_type": "code",
   "execution_count": 4,
   "id": "9948caf6",
   "metadata": {},
   "outputs": [],
   "source": [
    "from sklearn.model_selection import train_test_split\n",
    "X_train, X_test,y_train, y_test = train_test_split(X,y, test_size=0.2, random_state = 0)"
   ]
  },
  {
   "cell_type": "markdown",
   "id": "2d906b26",
   "metadata": {},
   "source": [
    "# Training The Multiple Linear Regression on the Training Set "
   ]
  },
  {
   "cell_type": "code",
   "execution_count": 4,
   "id": "5a14ecc6",
   "metadata": {},
   "outputs": [
    {
     "data": {
      "text/plain": [
       "LinearRegression()"
      ]
     },
     "execution_count": 4,
     "metadata": {},
     "output_type": "execute_result"
    }
   ],
   "source": [
    "from sklearn.linear_model import LinearRegression\n",
    "regressor = LinearRegression()\n",
    "regressor.fit(X, y)"
   ]
  },
  {
   "cell_type": "markdown",
   "id": "a42674a8",
   "metadata": {},
   "source": [
    "# Predicting the test set result"
   ]
  },
  {
   "cell_type": "code",
   "execution_count": 8,
   "id": "10c7e9ea",
   "metadata": {},
   "outputs": [
    {
     "name": "stdout",
     "output_type": "stream",
     "text": [
      "[[103015.2  103282.38]\n",
      " [132582.28 144259.4 ]\n",
      " [132447.74 146121.95]\n",
      " [ 71976.1   77798.83]\n",
      " [178537.48 191050.39]\n",
      " [116161.24 105008.31]\n",
      " [ 67851.69  81229.06]\n",
      " [ 98791.73  97483.56]\n",
      " [113969.44 110352.25]\n",
      " [167921.07 166187.94]]\n"
     ]
    }
   ],
   "source": [
    "y_pred = regressor.predict(X_test)\n",
    "np.set_printoptions(precision = 2)\n",
    "print(np.concatenate((y_pred.reshape(len(y_pred),1), y_test.reshape(len(y_test),1)), 1))"
   ]
  }
 ],
 "metadata": {
  "kernelspec": {
   "display_name": "Python 3 (ipykernel)",
   "language": "python",
   "name": "python3"
  },
  "language_info": {
   "codemirror_mode": {
    "name": "ipython",
    "version": 3
   },
   "file_extension": ".py",
   "mimetype": "text/x-python",
   "name": "python",
   "nbconvert_exporter": "python",
   "pygments_lexer": "ipython3",
   "version": "3.9.13"
  }
 },
 "nbformat": 4,
 "nbformat_minor": 5
}
